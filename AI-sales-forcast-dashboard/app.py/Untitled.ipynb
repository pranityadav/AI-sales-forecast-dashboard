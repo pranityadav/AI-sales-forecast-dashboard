{
 "cells": [
  {
   "cell_type": "code",
   "execution_count": 2,
   "id": "16be0885-5f9d-4762-a1e7-40153ac7ec24",
   "metadata": {},
   "outputs": [
    {
     "name": "stderr",
     "output_type": "stream",
     "text": [
      "2025-07-24 14:29:23.024 Thread 'MainThread': missing ScriptRunContext! This warning can be ignored when running in bare mode.\n",
      "2025-07-24 14:29:23.025 Thread 'MainThread': missing ScriptRunContext! This warning can be ignored when running in bare mode.\n",
      "2025-07-24 14:29:23.025 Thread 'MainThread': missing ScriptRunContext! This warning can be ignored when running in bare mode.\n",
      "2025-07-24 14:29:23.026 Thread 'MainThread': missing ScriptRunContext! This warning can be ignored when running in bare mode.\n",
      "2025-07-24 14:29:23.026 Thread 'MainThread': missing ScriptRunContext! This warning can be ignored when running in bare mode.\n",
      "2025-07-24 14:29:23.027 Thread 'MainThread': missing ScriptRunContext! This warning can be ignored when running in bare mode.\n",
      "2025-07-24 14:29:23.027 Thread 'MainThread': missing ScriptRunContext! This warning can be ignored when running in bare mode.\n",
      "2025-07-24 14:29:23.027 Thread 'MainThread': missing ScriptRunContext! This warning can be ignored when running in bare mode.\n",
      "2025-07-24 14:29:23.027 Thread 'MainThread': missing ScriptRunContext! This warning can be ignored when running in bare mode.\n",
      "2025-07-24 14:29:23.028 Thread 'MainThread': missing ScriptRunContext! This warning can be ignored when running in bare mode.\n",
      "2025-07-24 14:29:23.028 Thread 'MainThread': missing ScriptRunContext! This warning can be ignored when running in bare mode.\n",
      "2025-07-24 14:29:23.028 Thread 'MainThread': missing ScriptRunContext! This warning can be ignored when running in bare mode.\n",
      "2025-07-24 14:29:23.029 Thread 'MainThread': missing ScriptRunContext! This warning can be ignored when running in bare mode.\n",
      "2025-07-24 14:29:23.029 Thread 'MainThread': missing ScriptRunContext! This warning can be ignored when running in bare mode.\n"
     ]
    }
   ],
   "source": [
    "import streamlit as st\n",
    "import pandas as pd\n",
    "import numpy as np\n",
    "import matplotlib.pyplot as plt\n",
    "from sklearn.linear_model import LinearRegression\n",
    "\n",
    "st.set_page_config(page_title=\"Sales Forecast\", layout=\"wide\")\n",
    "\n",
    "# Title\n",
    "st.title(\"📈 AI-Powered Sales Forecast Dashboard\")\n",
    "st.markdown(\"Predict future sales using machine learning models and visualize trends interactively.\")\n",
    "\n",
    "# Upload data\n",
    "st.sidebar.header(\"Upload CSV Data\")\n",
    "uploaded_file = st.sidebar.file_uploader(\"Choose a CSV file\", type=[\"csv\"])\n",
    "\n",
    "if uploaded_file:\n",
    "    data = pd.read_csv(uploaded_file, parse_dates=['date'])\n",
    "    st.subheader(\"Raw Data Preview\")\n",
    "    st.dataframe(data.head())\n",
    "\n",
    "    # Preprocessing\n",
    "    data = data.sort_values(\"date\")\n",
    "    data[\"day_number\"] = np.arange(len(data))  # Time steps\n",
    "\n",
    "    # Show line chart\n",
    "    st.subheader(\"📊 Historical Sales Trend\")\n",
    "    st.line_chart(data.set_index(\"date\")[\"sales\"])\n",
    "\n",
    "    # Model training\n",
    "    model = LinearRegression()\n",
    "    X = data[[\"day_number\"]]\n",
    "    y = data[\"sales\"]\n",
    "    model.fit(X, y)\n",
    "\n",
    "    # Forecast future\n",
    "    future_days = st.slider(\"Select how many days to forecast\", 1, 60, 30)\n",
    "    future_X = np.arange(len(data), len(data) + future_days).reshape(-1, 1)\n",
    "    future_pred = model.predict(future_X)\n",
    "\n",
    "    # Forecast date range\n",
    "    last_date = data[\"date\"].max()\n",
    "    future_dates = pd.date_range(start=last_date + pd.Timedelta(days=1), periods=future_days)\n",
    "\n",
    "    forecast_df = pd.DataFrame({\"date\": future_dates, \"predicted_sales\": future_pred})\n",
    "\n",
    "    # Show forecast\n",
    "    st.subheader(\"📈 Forecasted Sales\")\n",
    "    st.line_chart(forecast_df.set_index(\"date\")[\"predicted_sales\"])\n",
    "\n",
    "    # Combine past + future\n",
    "    combined_df = pd.concat([\n",
    "        data[[\"date\", \"sales\"]].rename(columns={\"sales\": \"value\"}).assign(type=\"Actual\"),\n",
    "        forecast_df.rename(columns={\"predicted_sales\": \"value\"}).assign(type=\"Forecast\")\n",
    "    ])\n",
    "\n",
    "    # Plot combined\n",
    "    st.subheader(\"📉 Combined Actual + Forecast View\")\n",
    "    for_plot = combined_df.set_index(\"date\")\n",
    "    st.line_chart(for_plot.pivot_table(index=\"date\", columns=\"type\", values=\"value\"))\n",
    "\n",
    "else:\n",
    "    st.info(\"Upload a CSV file to begin. Must include 'date' and 'sales' columns.\")"
   ]
  },
  {
   "cell_type": "code",
   "execution_count": null,
   "id": "aa834f68-7ecd-4704-9f26-896328f6b3fe",
   "metadata": {},
   "outputs": [],
   "source": []
  }
 ],
 "metadata": {
  "kernelspec": {
   "display_name": "Python [conda env:base] *",
   "language": "python",
   "name": "conda-base-py"
  },
  "language_info": {
   "codemirror_mode": {
    "name": "ipython",
    "version": 3
   },
   "file_extension": ".py",
   "mimetype": "text/x-python",
   "name": "python",
   "nbconvert_exporter": "python",
   "pygments_lexer": "ipython3",
   "version": "3.13.5"
  }
 },
 "nbformat": 4,
 "nbformat_minor": 5
}
